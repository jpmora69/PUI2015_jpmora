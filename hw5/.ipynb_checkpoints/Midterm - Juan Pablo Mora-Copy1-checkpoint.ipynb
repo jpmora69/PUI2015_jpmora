{
 "cells": [
  {
   "cell_type": "code",
   "execution_count": 2,
   "metadata": {
    "collapsed": false
   },
   "outputs": [
    {
     "name": "stdout",
     "output_type": "stream",
     "text": [
      "Populating the interactive namespace from numpy and matplotlib\n"
     ]
    }
   ],
   "source": [
    "# importing required modules\n",
    "import pylab as pl\n",
    "import pandas as pd\n",
    "import numpy as np\n",
    "from numpy import ma\n",
    "%pylab inline\n",
    "import os\n",
    "import scipy.stats\n",
    "import datetime as dt\n",
    "import urllib2 as url\n",
    "from zipfile import ZipFile\n",
    "from StringIO import StringIO"
   ]
  },
  {
   "cell_type": "code",
   "execution_count": 5,
   "metadata": {
    "collapsed": false
   },
   "outputs": [],
   "source": [
    "#importing CSV citibike data for January 2015\n",
    "a = url.urlopen(\"https://s3.amazonaws.com/tripdata/201501-citibike-tripdata.zip\").read()\n",
    "file= ZipFile(StringIO(a))\n",
    "citibikedata = file.open(\"201501-citibike-tripdata.csv\")\n",
    "jan_data = pd.read_csv(citibikedata)\n",
    "\n",
    "#importing CSV citibike data for June 2015\n",
    "b = url.urlopen(\"https://s3.amazonaws.com/tripdata/201506-citibike-tripdata.zip\").read()\n",
    "file= ZipFile(StringIO(b))\n",
    "citibikedata1 = file.open(\"201506-citibike-tripdata.csv\")\n",
    "june_data = pd.read_csv(citibikedata1)"
   ]
  },
  {
   "cell_type": "code",
   "execution_count": 7,
   "metadata": {
    "collapsed": true
   },
   "outputs": [],
   "source": [
    "#Apppending two dataframes\n",
    "join_data = jan_data.append([june_data])"
   ]
  },
  {
   "cell_type": "code",
   "execution_count": 9,
   "metadata": {
    "collapsed": false
   },
   "outputs": [
    {
     "data": {
      "text/plain": [
       "Index([u'tripduration', u'starttime', u'stoptime', u'start station id',\n",
       "       u'start station name', u'start station latitude',\n",
       "       u'start station longitude', u'end station id', u'end station name',\n",
       "       u'end station latitude', u'end station longitude', u'bikeid',\n",
       "       u'usertype', u'birth year', u'gender'],\n",
       "      dtype='object')"
      ]
     },
     "execution_count": 9,
     "metadata": {},
     "output_type": "execute_result"
    }
   ],
   "source": [
    "#Checking the data appaended columns.\n",
    "join_data.columns"
   ]
  },
  {
   "cell_type": "code",
   "execution_count": null,
   "metadata": {
    "collapsed": true
   },
   "outputs": [],
   "source": []
  }
 ],
 "metadata": {
  "kernelspec": {
   "display_name": "Python 2",
   "language": "python",
   "name": "python2"
  },
  "language_info": {
   "codemirror_mode": {
    "name": "ipython",
    "version": 2
   },
   "file_extension": ".py",
   "mimetype": "text/x-python",
   "name": "python",
   "nbconvert_exporter": "python",
   "pygments_lexer": "ipython2",
   "version": "2.7.10"
  }
 },
 "nbformat": 4,
 "nbformat_minor": 0
}
