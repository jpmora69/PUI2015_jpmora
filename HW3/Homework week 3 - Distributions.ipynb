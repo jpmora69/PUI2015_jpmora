{
 "cells": [
  {
   "cell_type": "code",
   "execution_count": null,
   "metadata": {
    "collapsed": false
   },
   "outputs": [],
   "source": [
    "#importing required modules\n",
    "from __future__ import print_function\n",
    "import pylab as pl\n",
    "import numpy as np\n",
    "import pandas as pd\n",
    "\n",
    "%pylab inline"
   ]
  },
  {
   "cell_type": "code",
   "execution_count": null,
   "metadata": {
    "collapsed": false
   },
   "outputs": [],
   "source": [
    "# Generating a sample for selected distribution and plotting it\n",
    "mymean = 100\n",
    "mydistribution = np.random.chisquare(mymean, 100)\n",
    "pl.hist(mydistribution)\n",
    "plt.grid()"
   ]
  },
  {
   "cell_type": "code",
   "execution_count": null,
   "metadata": {
    "collapsed": false
   },
   "outputs": [],
   "source": [
    "# Generating a variable with the parameters of the samples to be generated \n",
    "sizes=range(10,2000,100)\n",
    "sizes=1990/np.array(np.array(np.linspace(1,1990,100))+10)"
   ]
  },
  {
   "cell_type": "code",
   "execution_count": null,
   "metadata": {
    "collapsed": false
   },
   "outputs": [],
   "source": [
    "#Creating a dictionary to store the samples generated\n",
    "distributions = {}\n",
    "distributions ['chisq'] = {}"
   ]
  },
  {
   "cell_type": "code",
   "execution_count": null,
   "metadata": {
    "collapsed": false
   },
   "outputs": [],
   "source": [
    "#Creating the samples and storing them in the dictionary\n",
    "for n in sizes:\n",
    "    distributions ['chisq'][n] = np.random.chisquare(mymean,n)"
   ]
  },
  {
   "cell_type": "code",
   "execution_count": null,
   "metadata": {
    "collapsed": false
   },
   "outputs": [],
   "source": [
    "#Plotting all of the sample's means\n",
    "fig_mu_N = pl.figure(figsize=(10,10))\n",
    "axchisq_mu_n = fig_mu_N.add_subplot(111)\n",
    "for nn in distributions['chisq']:\n",
    "    axchisq_mu_n.plot(nn, distributions['chisq'][nn].mean(), 'o')\n",
    "    axchisq_mu_n.set_xlabel('Sample Size')\n",
    "    axchisq_mu_n.set_ylabel('Sample Mean') \n",
    "    axchisq_mu_n.plot([min(sizes), max(sizes)] , [mymean, mymean], 'k')"
   ]
  },
  {
   "cell_type": "code",
   "execution_count": null,
   "metadata": {
    "collapsed": false
   },
   "outputs": [],
   "source": [
    "# Generating a sample for selected distribution and plotting it\n",
    "mydistribution1 = np.random.normal(mymean, 0.5, 100)\n",
    "pl.hist(mydistribution1)\n",
    "plt.grid()"
   ]
  },
  {
   "cell_type": "code",
   "execution_count": null,
   "metadata": {
    "collapsed": true
   },
   "outputs": [],
   "source": [
    "#Creating a dictionary to store the samples generated\n",
    "distributions ['norm'] = {}"
   ]
  },
  {
   "cell_type": "code",
   "execution_count": null,
   "metadata": {
    "collapsed": true
   },
   "outputs": [],
   "source": [
    "#Creating the samples and storing them in the dictionary\n",
    "for n in sizes:\n",
    "    distributions ['norm'][n] = np.random.normal(mymean,0.5,n)"
   ]
  },
  {
   "cell_type": "code",
   "execution_count": null,
   "metadata": {
    "collapsed": false
   },
   "outputs": [],
   "source": [
    "fig_mu_N = pl.figure(figsize=(10,10))\n",
    "axchisq_mu_n = fig_mu_N.add_subplot(111)\n",
    "for nn in distributions['norm']:\n",
    "    axchisq_mu_n.plot(nn, distributions['norm'][nn].mean(), 'o')\n",
    "    axchisq_mu_n.set_xlabel('Sample Size')\n",
    "    axchisq_mu_n.set_ylabel('Sample Mean') \n",
    "    axchisq_mu_n.plot([min(sizes), max(sizes)] , [mymean, mymean], 'k')"
   ]
  },
  {
   "cell_type": "code",
   "execution_count": null,
   "metadata": {
    "collapsed": false
   },
   "outputs": [],
   "source": [
    "# Generating a sample for selected distribution and plotting it\n",
    "mydistribution2 = np.random.poisson(mymean, 100)\n",
    "pl.hist(mydistribution2)\n",
    "plt.grid()"
   ]
  },
  {
   "cell_type": "code",
   "execution_count": null,
   "metadata": {
    "collapsed": true
   },
   "outputs": [],
   "source": [
    "#Creating a dictionary class to store the samples generated\n",
    "distributions ['poiss'] = {}"
   ]
  },
  {
   "cell_type": "code",
   "execution_count": null,
   "metadata": {
    "collapsed": false
   },
   "outputs": [],
   "source": [
    "for n in sizes:\n",
    "    distributions ['poiss'][n] = np.random.poisson(mymean,n)"
   ]
  },
  {
   "cell_type": "code",
   "execution_count": null,
   "metadata": {
    "collapsed": false
   },
   "outputs": [],
   "source": [
    "fig_mu_N = pl.figure(figsize=(10,10))\n",
    "axchisq_mu_n = fig_mu_N.add_subplot(111)\n",
    "for nn in distributions['poiss']:\n",
    "    axchisq_mu_n.plot(nn, distributions['poiss'][nn].mean(), 'o')\n",
    "    axchisq_mu_n.set_xlabel('Sample Size')\n",
    "    axchisq_mu_n.set_ylabel('Sample Mean') \n",
    "    axchisq_mu_n.plot([min(sizes), max(sizes)] , [mymean, mymean], 'k')"
   ]
  },
  {
   "cell_type": "code",
   "execution_count": null,
   "metadata": {
    "collapsed": false
   },
   "outputs": [],
   "source": [
    "# Generating a sample for selected distribution and plotting it\n",
    "n1 = 200\n",
    "p = 0.5\n",
    "mydistribution3 = np.random.binomial(n1, p, 100)\n",
    "pl.hist(mydistribution3)\n",
    "plt.grid()"
   ]
  },
  {
   "cell_type": "code",
   "execution_count": null,
   "metadata": {
    "collapsed": true
   },
   "outputs": [],
   "source": [
    "#Creating a dictionary class to store the samples generated\n",
    "distributions ['binm'] = {}"
   ]
  },
  {
   "cell_type": "code",
   "execution_count": null,
   "metadata": {
    "collapsed": false
   },
   "outputs": [],
   "source": [
    "#Creating the samples and storing them in the dictionary\n",
    "for n in sizes:\n",
    "    distributions ['binm'][n] = np.random.binomial(n1, p, n)"
   ]
  },
  {
   "cell_type": "code",
   "execution_count": null,
   "metadata": {
    "collapsed": false
   },
   "outputs": [],
   "source": [
    "fig_mu_N = pl.figure(figsize=(10,10))\n",
    "axchisq_mu_n = fig_mu_N.add_subplot(111)\n",
    "for nn in distributions['binm']:\n",
    "    axchisq_mu_n.plot(nn, distributions['binm'][nn].mean(), 'o')\n",
    "    axchisq_mu_n.set_xlabel('Sample Size')\n",
    "    axchisq_mu_n.set_ylabel('Sample Mean') \n",
    "    axchisq_mu_n.plot([min(sizes), max(sizes)] , [mymean, mymean], 'k')"
   ]
  },
  {
   "cell_type": "code",
   "execution_count": null,
   "metadata": {
    "collapsed": false
   },
   "outputs": [],
   "source": [
    "# Generating a sample for selected distribution and plotting it\n",
    "mydistribution4 = np.random.exponential(mymean, 100)\n",
    "pl.hist(mydistribution4)\n",
    "plt.grid()"
   ]
  },
  {
   "cell_type": "code",
   "execution_count": null,
   "metadata": {
    "collapsed": true
   },
   "outputs": [],
   "source": [
    "#Creating a dictionary class to store the samples generated\n",
    "distributions ['exp'] = {}"
   ]
  },
  {
   "cell_type": "code",
   "execution_count": null,
   "metadata": {
    "collapsed": true
   },
   "outputs": [],
   "source": [
    "#Creating the samples and storing them in the dictionary\n",
    "for n in sizes:\n",
    "    distributions ['exp'][n] = np.random.exponential(mymean, n)"
   ]
  },
  {
   "cell_type": "code",
   "execution_count": null,
   "metadata": {
    "collapsed": false
   },
   "outputs": [],
   "source": [
    "fig_mu_N = pl.figure(figsize=(10,10))\n",
    "axchisq_mu_n = fig_mu_N.add_subplot(111)\n",
    "for nn in distributions['exp']:\n",
    "    axchisq_mu_n.plot(nn, distributions['exp'][nn].mean(), 'o')\n",
    "    axchisq_mu_n.set_xlabel('Sample Size')\n",
    "    axchisq_mu_n.set_ylabel('Sample Mean') \n",
    "    axchisq_mu_n.plot([min(sizes), max(sizes)] , [mymean, mymean], 'k')"
   ]
  },
  {
   "cell_type": "code",
   "execution_count": null,
   "metadata": {
    "collapsed": false
   },
   "outputs": [],
   "source": [
    "# Generating a sample for selected distribution and plotting it\n",
    "mydistribution5 = np.random.logistic(mymean, 3, 100)\n",
    "pl.hist(mydistribution5)\n",
    "plt.grid()"
   ]
  },
  {
   "cell_type": "code",
   "execution_count": null,
   "metadata": {
    "collapsed": true
   },
   "outputs": [],
   "source": [
    "#Creating a dictionary class to store the samples generated\n",
    "distributions ['logistic'] = {}"
   ]
  },
  {
   "cell_type": "code",
   "execution_count": null,
   "metadata": {
    "collapsed": false
   },
   "outputs": [],
   "source": [
    "#Creating the samples and storing them in the dictionary\n",
    "for n in sizes:\n",
    "    distributions ['logistic'][n] = np.random.logistic(mymean, 3, n)"
   ]
  },
  {
   "cell_type": "code",
   "execution_count": null,
   "metadata": {
    "collapsed": false
   },
   "outputs": [],
   "source": [
    "fig_mu_N = pl.figure(figsize=(10,10))\n",
    "axchisq_mu_n = fig_mu_N.add_subplot(111)\n",
    "for nn in distributions['logistic']:\n",
    "    axchisq_mu_n.plot(nn, distributions['logistic'][nn].mean(), 'o')\n",
    "    axchisq_mu_n.set_xlabel('Sample Size')\n",
    "    axchisq_mu_n.set_ylabel('Sample Mean') \n",
    "    axchisq_mu_n.plot([min(sizes), max(sizes)] , [mymean, mymean], 'k')"
   ]
  },
  {
   "cell_type": "markdown",
   "metadata": {},
   "source": [
    "For all the plots generated we can see the following:\n",
    "\n",
    "- The bigger the draws in each sample, the closest the sample mean is to the population mean, confirming the central limit theorem.\n",
    "- In general, the plot for a large number of samples means generated for all distributions tend to behave like a normal distribution, altough there are some differences in terms of the variance of the means (some distribution haas greater sample mean variance that others): the only exception to this is the exponential distribution which has a significally skewed sample mean plot."
   ]
  },
  {
   "cell_type": "code",
   "execution_count": null,
   "metadata": {
    "collapsed": false
   },
   "outputs": [],
   "source": [
    "#Generating a empty list to store each mean value for each sample\n",
    "# converting the list to a Panda Dataframe\n",
    "a = []\n",
    "for nn in distributions['norm']:\n",
    "    b = (distributions['norm'][nn].mean())\n",
    "    a.append(b)\n",
    "normpd = pd.DataFrame(a, columns=['normal'])\n",
    "c = []\n",
    "for nn in distributions['chisq']:\n",
    "    b = (distributions['chisq'][nn].mean())\n",
    "    c.append(b)\n",
    "chisqpd = pd.DataFrame(c, columns=['chisq'])\n",
    "d = []\n",
    "for nn in distributions['poiss']:\n",
    "    b = (distributions['poiss'][nn].mean())\n",
    "    d.append(b)\n",
    "poisspd = pd.DataFrame(d, columns=['poisson'])\n",
    "g=[]\n",
    "for nn in distributions['binm']:\n",
    "    b = (distributions['binm'][nn].mean())\n",
    "    g.append(b)\n",
    "binmpd = pd.DataFrame(g, columns=['binomial'])\n",
    "h=[]\n",
    "for nn in distributions['exp']:\n",
    "    b = (distributions['exp'][nn].mean())\n",
    "    h.append(b)\n",
    "exppd = pd.DataFrame(h, columns=['exponential'])\n",
    "i=[]\n",
    "for nn in distributions['logistic']:\n",
    "    b = (distributions['logistic'][nn].mean())\n",
    "    i.append(b)\n",
    "logisticpd = pd.DataFrame(i, columns=['logistic'])\n",
    "\n",
    "#Merging all 6 Dataframes into a single Panda Dataframe\n",
    "mergedmeanpd1 = pd.merge(pd.merge(normpd, chisqpd, left_index=True,right_index=True), poisspd, left_index=True, right_index=True)\n",
    "mergedmeanpd2 = pd.merge(pd.merge(binmpd, exppd, left_index=True, right_index=True), logisticpd, left_index=True, right_index=True)\n",
    "mergedmeanpdf = pd.merge(mergedmeanpd1, mergedmeanpd2, left_index=True, right_index=True)\n",
    "\n"
   ]
  },
  {
   "cell_type": "code",
   "execution_count": null,
   "metadata": {
    "collapsed": false
   },
   "outputs": [],
   "source": [
    "#Plotting a single histogram for all sample means for all distributions\n",
    "mergedmeanpdf.plot(kind='hist', bins=30, figsize=(10,10), stacked=True, alpha=0.5)\n",
    "pl.xlabel('sample mean', fontsize=18)\n",
    "pl.ylabel('N', fontsize=18)\n",
    "pl.grid()"
   ]
  },
  {
   "cell_type": "code",
   "execution_count": null,
   "metadata": {
    "collapsed": false
   },
   "outputs": [],
   "source": [
    "#Box Plotting in a single graph for all sample means for all distributions\n",
    "mergedmeanpdf.plot(kind='box', figsize=(10,10))\n",
    "pl.xlabel('sample mean', fontsize=18)\n",
    "pl.ylabel('N', fontsize=18)\n",
    "pl.grid()"
   ]
  },
  {
   "cell_type": "markdown",
   "metadata": {},
   "source": [
    "We can use a Boxplot graphic to compare the distributions of each of the sample means for each of the distributions we studied."
   ]
  }
 ],
 "metadata": {
  "kernelspec": {
   "display_name": "Python 2",
   "language": "python",
   "name": "python2"
  },
  "language_info": {
   "codemirror_mode": {
    "name": "ipython",
    "version": 2
   },
   "file_extension": ".py",
   "mimetype": "text/x-python",
   "name": "python",
   "nbconvert_exporter": "python",
   "pygments_lexer": "ipython2",
   "version": "2.7.10"
  }
 },
 "nbformat": 4,
 "nbformat_minor": 0
}
