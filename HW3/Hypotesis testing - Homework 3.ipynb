{
 "cells": [
  {
   "cell_type": "code",
   "execution_count": null,
   "metadata": {
    "collapsed": true
   },
   "outputs": [],
   "source": [
    "#import required modules\n",
    "import os\n",
    "import sys\n",
    "import numpy as np\n",
    "import pylab as pl"
   ]
  },
  {
   "cell_type": "code",
   "execution_count": null,
   "metadata": {
    "collapsed": false
   },
   "outputs": [],
   "source": [
    "#allowing in-notebook images from pylab\n",
    "%pylab inline"
   ]
  },
  {
   "cell_type": "markdown",
   "metadata": {},
   "source": [
    "NULL HYPOTHESIS: the % of former prisoners that was ever convicted of a crime after being initially release is the same or lower for candidates who participated in the program as for the control group, significance level p=0.05."
   ]
  },
  {
   "cell_type": "markdown",
   "metadata": {},
   "source": [
    "- H0:P0−P1≥ 0\n",
    "- Ha:P0−P1< 0\n",
    "- α = 0.05"
   ]
  },
  {
   "cell_type": "markdown",
   "metadata": {},
   "source": [
    "P0=0.488,P1=0.431"
   ]
  },
  {
   "cell_type": "code",
   "execution_count": null,
   "metadata": {
    "collapsed": true
   },
   "outputs": [],
   "source": [
    "#Defining alpha, P0, P1, N0, N1\n",
    "alpha=0.05\n",
    "#we like fractions better then percentages. as a rule of thumb, either use fractions or counts\n",
    "P_0=48.8*0.01 \n",
    "P_1=43.1*0.01\n",
    "\n",
    "n_0=409\n",
    "n_1=564\n",
    "\n",
    "#lets get the counts by multiplying by the sample size\n",
    "Nt_0=P_0*n_0\n",
    "Nt_1=P_1*n_1"
   ]
  },
  {
   "cell_type": "code",
   "execution_count": null,
   "metadata": {
    "collapsed": false
   },
   "outputs": [],
   "source": [
    "#define the sample proportion first\n",
    "sp=(P_0*n_0+P_1*n_1)/(n_1+n_0)\n",
    "print sp"
   ]
  },
  {
   "cell_type": "code",
   "execution_count": null,
   "metadata": {
    "collapsed": false
   },
   "outputs": [],
   "source": [
    "#Defining the function for calculating the standard deviation\n",
    "sp_stdev= lambda p, n: np.sqrt( p * ( 1 - p ) /n[0] +  p * ( 1 - p )/n[1]  )\n",
    "\n",
    "\n",
    "sp_stdev_2y=sp_stdev((P_0+P_1),[n_0,n_1])\n",
    "print P_0, n_0, n_1, sp_stdev_2y"
   ]
  },
  {
   "cell_type": "code",
   "execution_count": null,
   "metadata": {
    "collapsed": false
   },
   "outputs": [],
   "source": [
    "#Defining function to calculate z-score\n",
    "zscore = lambda p0, p1, s : (p0-p1)/s\n",
    "z_2y = zscore(P_1, P_0, sp_stdev_2y)\n",
    "print z_2y"
   ]
  },
  {
   "cell_type": "markdown",
   "metadata": {},
   "source": [
    "With this level of the z-satistic, I found on the internet that the p-value obtained is equal to 0.00065, which is lower than α = 0.05, therefore, rejecting the null hypotesis, and proving that with a 95% of confidence we cannot affirm that the % of former prisoners that was ever convicted of a crime after being initially release is the same or lower for candidates who participated in the program as for the control group  "
   ]
  },
  {
   "cell_type": "code",
   "execution_count": null,
   "metadata": {
    "collapsed": false
   },
   "outputs": [],
   "source": [
    "#Defining function for analizing if H0 is set to be rejected or not.\n",
    "p_2y=0.00065\n",
    "\n",
    "def report_result(p,a):\n",
    "    print 'is the p value {0:.2f} smaller than the critical value {1:.2f}? '.format(p,a)\n",
    "    if p<a:\n",
    "        print \"YES!\"\n",
    "    else: print \"NO!\"\n",
    "    \n",
    "    print 'the Null hypothesis is {}'.format( 'rejected' if p<a  else 'not rejected') \n",
    "\n",
    "report_result(p_2y,alpha)    "
   ]
  },
  {
   "cell_type": "markdown",
   "metadata": {},
   "source": [
    "CALCULATING x2 TEST STATISTIC"
   ]
  },
  {
   "cell_type": "code",
   "execution_count": null,
   "metadata": {
    "collapsed": false
   },
   "outputs": [],
   "source": [
    "#Inputing data to generate X2 statistic\n",
    "Ntot = 977\n",
    "expected = 568*409*441.537*535.463\n",
    "sample_values = [[43.1*5.68,56.9*5.68],[48.1*4.09,51.9*4.09]]\n",
    " \n",
    "chisqstat= lambda N, values, expect : N*((values[0][0]*values[1][1]-values[0][1]*values[1][0])**2)/(expect)\n",
    "\n",
    "print chisqstat(Ntot,  sample_values, expected)"
   ]
  },
  {
   "cell_type": "markdown",
   "metadata": {},
   "source": [
    "In this case, the Value of the calculated X2 is less than 3.84, and therefore we confirm that we can reject the null hypotesis we stated, and proving that with a 95% of confidence we cannot affirm that the % of former prisoners that was ever convicted of a crime after being initially release is the same or lower for candidates who participated in the program as for the control group "
   ]
  }
 ],
 "metadata": {
  "kernelspec": {
   "display_name": "Python 2",
   "language": "python",
   "name": "python2"
  },
  "language_info": {
   "codemirror_mode": {
    "name": "ipython",
    "version": 2
   },
   "file_extension": ".py",
   "mimetype": "text/x-python",
   "name": "python",
   "nbconvert_exporter": "python",
   "pygments_lexer": "ipython2",
   "version": "2.7.10"
  }
 },
 "nbformat": 4,
 "nbformat_minor": 0
}
