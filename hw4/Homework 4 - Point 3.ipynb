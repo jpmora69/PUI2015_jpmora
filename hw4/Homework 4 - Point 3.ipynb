{
 "cells": [
  {
   "cell_type": "code",
   "execution_count": 2,
   "metadata": {
    "collapsed": false
   },
   "outputs": [
    {
     "name": "stdout",
     "output_type": "stream",
     "text": [
      "Populating the interactive namespace from numpy and matplotlib\n"
     ]
    }
   ],
   "source": [
    "# importing required modules\n",
    "import pylab as pl\n",
    "import pandas as pd\n",
    "import numpy as np\n",
    "%pylab inline\n",
    "import os\n",
    "import scipy.stats\n",
    "import datetime as dt\n",
    "import urllib2 as url\n",
    "from zipfile import ZipFile\n",
    "from StringIO import StringIO"
   ]
  },
  {
   "cell_type": "code",
   "execution_count": 18,
   "metadata": {
    "collapsed": false
   },
   "outputs": [],
   "source": [
    "#importing CSV citibike data for January 2015\n",
    "a = url.urlopen(\"https://s3.amazonaws.com/tripdata/201501-citibike-tripdata.zip\").read()\n",
    "file= ZipFile(StringIO(a))\n",
    "citibikedata = file.open(\"201501-citibike-tripdata.csv\")\n",
    "w_data = pd.read_csv(citibikedata)\n",
    "\n",
    "#importing CSV citibike data for february 2015\n",
    "b = url.urlopen(\"https://s3.amazonaws.com/tripdata/201502-citibike-tripdata.zip\").read()\n",
    "file= ZipFile(StringIO(b))\n",
    "citibikedata2 = file.open(\"201502-citibike-tripdata.csv\")\n",
    "w2_data = pd.read_csv(citibikedata2)\n",
    "\n",
    "#importing CSV citibike data for September 2014\n",
    "c = url.urlopen(\"https://s3.amazonaws.com/tripdata/201409-citibike-tripdata.zip\").read()\n",
    "file= ZipFile(StringIO(c))\n",
    "citibikedata3 = file.open(\"201409-citibike-tripdata.csv\")\n",
    "f_data = pd.read_csv(citibikedata3)\n",
    "\n",
    "#importing CSV citibike data for October 2014\n",
    "d = url.urlopen(\"https://s3.amazonaws.com/tripdata/201410-citibike-tripdata.zip\").read()\n",
    "file= ZipFile(StringIO(d))\n",
    "citibikedata4 = file.open(\"201410-citibike-tripdata.csv\")\n",
    "f2_data = pd.read_csv(citibikedata4)"
   ]
  },
  {
   "cell_type": "code",
   "execution_count": 19,
   "metadata": {
    "collapsed": false
   },
   "outputs": [
    {
     "name": "stdout",
     "output_type": "stream",
     "text": [
      "Index([u'tripduration', u'starttime', u'stoptime', u'start station id',\n",
      "       u'start station name', u'start station latitude',\n",
      "       u'start station longitude', u'end station id', u'end station name',\n",
      "       u'end station latitude', u'end station longitude', u'bikeid',\n",
      "       u'usertype', u'birth year', u'gender'],\n",
      "      dtype='object')\n"
     ]
    }
   ],
   "source": [
    "#appending all 4 Datasets into a single dataframe\n",
    "winfall = w_data.append([w2_data, f_data, f2_data])\n",
    "print winfall.columns"
   ]
  },
  {
   "cell_type": "code",
   "execution_count": 20,
   "metadata": {
    "collapsed": false
   },
   "outputs": [],
   "source": [
    "#calculating the age form dataframe\n",
    "winfall.age = 2015-winfall['birth year'][(winfall['usertype'] == 'Subscriber')]"
   ]
  },
  {
   "cell_type": "code",
   "execution_count": 21,
   "metadata": {
    "collapsed": false
   },
   "outputs": [
    {
     "data": {
      "image/png": "[encoded data removed]",
      "text/plain": [
       "<matplotlib.figure.Figure at 0x8aeab9e8>"
      ]
     },
     "metadata": {},
     "output_type": "display_data"
    }
   ],
   "source": [
    "#Plotting the info with a 10 year bin distribution\n",
    "bins = np.arange(10, 99, 10)\n",
    "winfall.age.groupby(pd.cut(winfall.age, bins)).agg([count_nonzero]).plot(kind='bar', title=\"Winter-fall\", grid=True)\n",
    "winfall.age_dist = winfall.age.groupby(pd.cut(winfall.age, bins)).agg([count_nonzero])"
   ]
  },
  {
   "cell_type": "code",
   "execution_count": 23,
   "metadata": {
    "collapsed": false
   },
   "outputs": [
    {
     "name": "stdout",
     "output_type": "stream",
     "text": [
      "winter and fall, normal fit (1.0, 0.0)\n"
     ]
    }
   ],
   "source": [
    "#Calculating KS statistic for a normal fit\n",
    "ksW=scipy.stats.kstest(winfall.age_dist, 'norm')\n",
    "print \"winter and fall, normal fit\", ksW"
   ]
  },
  {
   "cell_type": "code",
   "execution_count": 24,
   "metadata": {
    "collapsed": false
   },
   "outputs": [
    {
     "name": "stdout",
     "output_type": "stream",
     "text": [
      "winter and fall, poisson fit (0.99999952913574597, 0.0)\n"
     ]
    }
   ],
   "source": [
    "#Calculating KS statistic for a Poisson fit\n",
    "ksW1=scipy.stats.kstest(winfall.age_dist, 'cauchy')\n",
    "print \"winter and fall, poisson fit\", ksW1"
   ]
  },
  {
   "cell_type": "code",
   "execution_count": 27,
   "metadata": {
    "collapsed": false
   },
   "outputs": [
    {
     "name": "stdout",
     "output_type": "stream",
     "text": [
      "winter and fall, normal fit (26876.318482238799, array([ 0.576,  0.656,  0.787,  0.918,  1.092]), array([ 15. ,  10. ,   5. ,   2.5,   1. ]))\n"
     ]
    }
   ],
   "source": [
    "#Calculating anderson statistic for normal fit \n",
    "andtst = scipy.stats.anderson(winfall.age.dropna(), dist='norm')\n",
    "print \"winter and fall, normal fit\", andtst"
   ]
  },
  {
   "cell_type": "code",
   "execution_count": 28,
   "metadata": {
    "collapsed": false
   },
   "outputs": [
    {
     "name": "stdout",
     "output_type": "stream",
     "text": [
      "winter and fall, exponential fit (489361.87810696661, array([ 0.922,  1.078,  1.341,  1.606,  1.957]), array([ 15. ,  10. ,   5. ,   2.5,   1. ]))\n"
     ]
    }
   ],
   "source": [
    "#Calculating anderson statistic for poisson fit \n",
    "andtst1 = scipy.stats.anderson(winfall.age.dropna(), dist='expon')\n",
    "print \"winter and fall, exponential fit\", andtst1"
   ]
  },
  {
   "cell_type": "markdown",
   "metadata": {},
   "source": [
    "As a result of both KS and anderson tests we can confirm that for the fall winter period the age of the subscribers do not fit like a normal, a poisson or a exponential distributions"
   ]
  },
  {
   "cell_type": "code",
   "execution_count": 3,
   "metadata": {
    "collapsed": false
   },
   "outputs": [],
   "source": [
    "#importing CSV citibike data for April 2015\n",
    "e = url.urlopen(\"https://s3.amazonaws.com/tripdata/201504-citibike-tripdata.zip\").read()\n",
    "file= ZipFile(StringIO(e))\n",
    "citibikedata5 = file.open(\"201504-citibike-tripdata.csv\")\n",
    "sp_data = pd.read_csv(citibikedata5)\n",
    "\n",
    "#importing CSV citibike data for May 2015\n",
    "f = url.urlopen(\"https://s3.amazonaws.com/tripdata/201505-citibike-tripdata.zip\").read()\n",
    "file= ZipFile(StringIO(f))\n",
    "citibikedata6 = file.open(\"201505-citibike-tripdata.csv\")\n",
    "sp2_data = pd.read_csv(citibikedata6)\n",
    "\n",
    "#importing CSV citibike data for June 2015\n",
    "g = url.urlopen(\"https://s3.amazonaws.com/tripdata/201506-citibike-tripdata.zip\").read()\n",
    "file= ZipFile(StringIO(g))\n",
    "citibikedata7 = file.open(\"201506-citibike-tripdata.csv\")\n",
    "su_data = pd.read_csv(citibikedata7)\n",
    "\n",
    "#importing CSV citibike data for July 2015\n",
    "h = url.urlopen(\"https://s3.amazonaws.com/tripdata/201507-citibike-tripdata.zip\").read()\n",
    "file= ZipFile(StringIO(h))\n",
    "citibikedata8 = file.open(\"201507-citibike-tripdata.csv\")\n",
    "su2_data = pd.read_csv(citibikedata8)"
   ]
  },
  {
   "cell_type": "code",
   "execution_count": 4,
   "metadata": {
    "collapsed": false
   },
   "outputs": [
    {
     "name": "stdout",
     "output_type": "stream",
     "text": [
      "Index([u'tripduration', u'starttime', u'stoptime', u'start station id',\n",
      "       u'start station name', u'start station latitude',\n",
      "       u'start station longitude', u'end station id', u'end station name',\n",
      "       u'end station latitude', u'end station longitude', u'bikeid',\n",
      "       u'usertype', u'birth year', u'gender'],\n",
      "      dtype='object')\n"
     ]
    }
   ],
   "source": [
    "#appending all 4 Datasets into a single dataframe\n",
    "sprsu = sp_data.append([sp2_data, su_data, su2_data])\n",
    "print sprsu.columns"
   ]
  },
  {
   "cell_type": "code",
   "execution_count": 5,
   "metadata": {
    "collapsed": true
   },
   "outputs": [],
   "source": [
    "#calculating the age form dataframe\n",
    "sprsu.age = 2015-sprsu['birth year'][(sprsu['usertype'] == 'Subscriber')]"
   ]
  },
  {
   "cell_type": "code",
   "execution_count": 6,
   "metadata": {
    "collapsed": false
   },
   "outputs": [
    {
     "data": {
      "image/png": "[encoded data removed]",
      "text/plain": [
       "<matplotlib.figure.Figure at 0x170a6518>"
      ]
     },
     "metadata": {},
     "output_type": "display_data"
    }
   ],
   "source": [
    "#Plotting the age distribution grouped in 10 year bins\n",
    "bins = np.arange(10, 99, 10)\n",
    "sprsu.age.groupby(pd.cut(sprsu.age, bins)).agg([count_nonzero]).plot(kind='bar', title=\"Spring-Summer\", grid=True)\n",
    "sprsu.age_dist = sprsu.age.groupby(pd.cut(sprsu.age, bins)).agg([count_nonzero])"
   ]
  },
  {
   "cell_type": "code",
   "execution_count": 7,
   "metadata": {
    "collapsed": false
   },
   "outputs": [
    {
     "name": "stdout",
     "output_type": "stream",
     "text": [
      "Spring and summer, normal fit (1.0, 0.0)\n"
     ]
    }
   ],
   "source": [
    "#Calculating KS Statistic for normal fit\n",
    "ksW=scipy.stats.kstest(sprsu.age_dist, 'norm')\n",
    "print \"Spring and summer, normal fit\", ksW"
   ]
  },
  {
   "cell_type": "code",
   "execution_count": 8,
   "metadata": {
    "collapsed": false
   },
   "outputs": [
    {
     "name": "stdout",
     "output_type": "stream",
     "text": [
      "Spring and summer, poisson fit (0.99999968114263571, 0.0)\n"
     ]
    }
   ],
   "source": [
    "#Calculating KS Satistic for poisson fit\n",
    "ksW1=scipy.stats.kstest(sprsu.age_dist, 'cauchy')\n",
    "print \"Spring and summer, poisson fit\", ksW1"
   ]
  },
  {
   "cell_type": "code",
   "execution_count": 29,
   "metadata": {
    "collapsed": false
   },
   "outputs": [
    {
     "name": "stdout",
     "output_type": "stream",
     "text": [
      "Spring and summer, normal fit (43659.255940694828, array([ 0.576,  0.656,  0.787,  0.918,  1.092]), array([ 15. ,  10. ,   5. ,   2.5,   1. ]))\n"
     ]
    }
   ],
   "source": [
    "#Calculating Anderson test for normal fit\n",
    "andtst = scipy.stats.anderson(sprsu.age.dropna(), dist='norm')\n",
    "print \"Spring and summer, normal fit\", andtst"
   ]
  },
  {
   "cell_type": "code",
   "execution_count": 30,
   "metadata": {
    "collapsed": false
   },
   "outputs": [
    {
     "name": "stdout",
     "output_type": "stream",
     "text": [
      "Spring and summer, exponential fit (723861.92352395458, array([ 0.922,  1.078,  1.341,  1.606,  1.957]), array([ 15. ,  10. ,   5. ,   2.5,   1. ]))\n"
     ]
    }
   ],
   "source": [
    "#Calculating anderson test for exponential fit\n",
    "andtst1 = scipy.stats.anderson(sprsu.age.dropna(), dist='expon')\n",
    "print \"Spring and summer, exponential fit\", andtst1"
   ]
  },
  {
   "cell_type": "markdown",
   "metadata": {},
   "source": [
    "As a result of both KS and anderson tests we can confirm that for the fall spring summer period the age of the subscribers do not fit like a normal, a poisson or a exponential distributions"
   ]
  },
  {
   "cell_type": "code",
   "execution_count": null,
   "metadata": {
    "collapsed": true
   },
   "outputs": [],
   "source": []
  }
 ],
 "metadata": {
  "kernelspec": {
   "display_name": "Python 2",
   "language": "python",
   "name": "python2"
  },
  "language_info": {
   "codemirror_mode": {
    "name": "ipython",
    "version": 2
   },
   "file_extension": ".py",
   "mimetype": "text/x-python",
   "name": "python",
   "nbconvert_exporter": "python",
   "pygments_lexer": "ipython2",
   "version": "2.7.10"
  }
 },
 "nbformat": 4,
 "nbformat_minor": 0
}
