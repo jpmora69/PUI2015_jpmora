{
 "cells": [
  {
   "cell_type": "code",
   "execution_count": 2,
   "metadata": {
    "collapsed": false
   },
   "outputs": [
    {
     "name": "stdout",
     "output_type": "stream",
     "text": [
      "Populating the interactive namespace from numpy and matplotlib\n"
     ]
    }
   ],
   "source": [
    "# Importing required modues\n",
    "import pylab as pl\n",
    "import pandas as pd\n",
    "import numpy as np\n",
    "%pylab inline\n",
    "import scipy.stats"
   ]
  },
  {
   "cell_type": "code",
   "execution_count": 3,
   "metadata": {
    "collapsed": true
   },
   "outputs": [],
   "source": [
    "#generate the distributions\n",
    "m = 0\n",
    "sd = 1\n",
    "dist_n = np.random.normal(m, sd, 1000)\n",
    "\n",
    "\n",
    "n1 = 1 \n",
    "p1 = 0.5\n",
    "n2 = 2\n",
    "p2 = 0.7\n",
    "n3 = 10\n",
    "p3 = 0.9\n",
    "dist_b1 = np.random.binomial(n1, p1 , 1000)\n",
    "dist_b2 = np.random.binomial(n2, p2 , 1000)\n",
    "dist_b3 = np.random.binomial(n3, p3 , 1000)"
   ]
  },
  {
   "cell_type": "code",
   "execution_count": 4,
   "metadata": {
    "collapsed": false
   },
   "outputs": [
    {
     "name": "stdout",
     "output_type": "stream",
     "text": [
      "binomial1 on normal (0.5, 0.0)\n",
      "binomial1 on normal (179.72195136268033, array([ 0.574,  0.653,  0.784,  0.914,  1.088]), array([ 15. ,  10. ,   5. ,   2.5,   1. ]))\n"
     ]
    }
   ],
   "source": [
    "# Printing the results for kstest and anderson test on 1st binomial sample generated on \n",
    "# normal distribution\n",
    "print \"binomial1 on normal\", scipy.stats.kstest(dist_b1,'norm')\n",
    "print \"binomial1 on normal\", scipy.stats.anderson(dist_b1, dist='norm')"
   ]
  },
  {
   "cell_type": "code",
   "execution_count": 5,
   "metadata": {
    "collapsed": false
   },
   "outputs": [
    {
     "name": "stdout",
     "output_type": "stream",
     "text": [
      "binomial2 on normal (0.75434474606854296, 0.0)\n",
      "binomial2 on normal (112.03257058493682, array([ 0.574,  0.653,  0.784,  0.914,  1.088]), array([ 15. ,  10. ,   5. ,   2.5,   1. ]))\n"
     ]
    }
   ],
   "source": [
    "# Printing the results for kstest and anderson test on 2nd binomial sample generated on \n",
    "# normal distributionprint \"binomial2 on normal\", scipy.stats.kstest(dist_b2,'norm')\n",
    "print \"binomial2 on normal\", scipy.stats.kstest(dist_b2,'norm')\n",
    "print \"binomial2 on normal\", scipy.stats.anderson(dist_b2, dist='norm')"
   ]
  },
  {
   "cell_type": "code",
   "execution_count": 6,
   "metadata": {
    "collapsed": false
   },
   "outputs": [
    {
     "name": "stdout",
     "output_type": "stream",
     "text": [
      "binomial3 on normal (0.99999971334842808, 0.0)\n",
      "binomial3 on normal (62.017950555277139, array([ 0.574,  0.653,  0.784,  0.914,  1.088]), array([ 15. ,  10. ,   5. ,   2.5,   1. ]))\n"
     ]
    }
   ],
   "source": [
    "# Printing the results for kstest and anderson test on 3rd binomial sample generated on \n",
    "# normal distributionprint \"binomial3 on normal\", scipy.stats.kstest(dist_b3,'norm')\n",
    "print \"binomial3 on normal\", scipy.stats.kstest(dist_b3,'norm')\n",
    "print \"binomial3 on normal\", scipy.stats.anderson(dist_b3, dist='norm')"
   ]
  },
  {
   "cell_type": "markdown",
   "metadata": {},
   "source": [
    "For all three cases, the use of the KS test shows a low p-value and statistic; since the null hypotesis in this case is that the two groups compared are sampled for the same distribution (in this case a normal distribution) with the same mean and standard deviation, we can interpret in all three cases (even with different levels of p and n values in the binomial) that the null hypotesis is rejected, and confirming that all three compared groups came from different distributions. "
   ]
  },
  {
   "cell_type": "markdown",
   "metadata": {},
   "source": [
    "In the same way that the KS test, the anderson test null hypotesis is that the group compared to the desired distribution comes from that distribution: since in all cases we see a ver high value of the anderson statistic that exceeds the values from the desired siginificance value (0.5), we reject this null hypotesis and confirm that in all cases the groups sampled came from a different distribution."
   ]
  },
  {
   "cell_type": "code",
   "execution_count": 7,
   "metadata": {
    "collapsed": true
   },
   "outputs": [],
   "source": [
    "# fitting values of all binomial generated samples into a normal distribution \n",
    "# to run KL test\n",
    "distpdf_b1, mybins_b1, = np.histogram(dist_b1, density=True)\n",
    "distpdf_b2, mybins_b2, = np.histogram(dist_b2, density=True)\n",
    "distpdf_b3, mybins_b3, = np.histogram(dist_b3, density=True)"
   ]
  },
  {
   "cell_type": "code",
   "execution_count": 8,
   "metadata": {
    "collapsed": true
   },
   "outputs": [],
   "source": [
    "# fitting values of all binomial generated samples into a normal distribution \n",
    "# to run KL test\n",
    "bincenters_b1 = mybins_b1[:-1] + 0.5*(mybins_b1[1] - mybins_b1[0])\n",
    "bincenters_b2 = mybins_b2[:-1] + 0.5*(mybins_b2[1] - mybins_b2[0])\n",
    "bincenters_b3 = mybins_b3[:-1] + 0.5*(mybins_b3[1] - mybins_b3[0])"
   ]
  },
  {
   "cell_type": "code",
   "execution_count": 9,
   "metadata": {
    "collapsed": false
   },
   "outputs": [
    {
     "name": "stdout",
     "output_type": "stream",
     "text": [
      "binomial1 on normal 1.67337169951\n",
      "binomial2 on normal 2.00122847774\n",
      "binomial3 on normal 26.6295179401\n"
     ]
    }
   ],
   "source": [
    "# Printing values of KL test of all binomial generated samples into a normal distribution \n",
    "print \"binomial1 on normal\", scipy.stats.entropy(distpdf_b1, scipy.stats.norm.pdf(bincenters_b1))\n",
    "print \"binomial2 on normal\", scipy.stats.entropy(distpdf_b2, scipy.stats.norm.pdf(bincenters_b2))\n",
    "print \"binomial3 on normal\", scipy.stats.entropy(distpdf_b3, scipy.stats.norm.pdf(bincenters_b3))"
   ]
  },
  {
   "cell_type": "markdown",
   "metadata": {},
   "source": [
    "Due to the large value of the KL statistic for all three cases, we can reject the null hypotesis and confirm that all three samples do  not come from a normal distribution."
   ]
  },
  {
   "cell_type": "code",
   "execution_count": 11,
   "metadata": {
    "collapsed": true
   },
   "outputs": [],
   "source": [
    "narray = range(1,50,1)\n",
    "ks_b = np.zeros(len(narray))\n",
    "ad_b = np.zeros(len(narray))\n",
    "kl_b = np.zeros(len(narray))\n",
    "\n",
    "def mynorm (x, mu, var):\n",
    "    return scipy.stats.norm.cdf(x, loc=mu, scale=var)"
   ]
  },
  {
   "cell_type": "code",
   "execution_count": 12,
   "metadata": {
    "collapsed": false
   },
   "outputs": [],
   "source": [
    "p=0.5\n",
    "for i,n in enumerate(narray):\n",
    "    p=0.1 #parameter for the binomial, my arbitrary choice\n",
    "    #generate the distribution\n",
    "    dist = np.random.binomial(n, p, 1000)\n",
    "    #run the tests. \n",
    " \n",
    "    ks_b[i] = scipy.stats.kstest(dist, mynorm, args=(n*p, n*p*(1.0-p)))[0]\n",
    "    ad_b[i] = scipy.stats.anderson(dist, dist='norm')[0]\n",
    "    \n",
    "    \n",
    "    # for KL and Pearson's chisq I have to simulate the normal distribution as well\n",
    "    mybins=np.linspace(min(dist),max(dist), 10) \n",
    "    bincenters = mybins[:-1]+0.5*(mybins[1]-mybins[0])\n",
    "    kl_b [i] =  scipy.stats.entropy(np.histogram(dist, bins=mybins)[0], scipy.stats.norm.pdf(bincenters, loc=n*p, scale=sqrt(n*p*(1.0-p))))"
   ]
  },
  {
   "cell_type": "code",
   "execution_count": 13,
   "metadata": {
    "collapsed": false
   },
   "outputs": [
    {
     "data": {
      "image/png": "[encoded data removed]",
      "text/plain": [
       "<matplotlib.figure.Figure at 0x171407f0>"
      ]
     },
     "metadata": {},
     "output_type": "display_data"
    }
   ],
   "source": [
    "fig = pl.figure(figsize = (15,5))\n",
    "fig.add_subplot(131)\n",
    "pl.plot(narray, ks_b, label='KS')\n",
    "pl.legend()\n",
    "pl.grid()\n",
    "\n",
    "fig.add_subplot(132)\n",
    "pl.plot(narray, ad_b,  label='AD')\n",
    "pl.plot([narray[0], narray[-1]])\n",
    "pl.plot()\n",
    "pl.plot()\n",
    "pl.legend()\n",
    "pl.grid()\n",
    "\n",
    "fig.add_subplot(133)\n",
    "pl.plot(narray, kl_b, label='K-L ')\n",
    "pl.legend()\n",
    "pl.grid()"
   ]
  },
  {
   "cell_type": "markdown",
   "metadata": {},
   "source": [
    "For all three graphs, what the line is showing us is that the binomial sample tends to have lower values of all three statistics (KS, Anderson and KL) as the n parameter of the sample (number of observations of each sample) increases over time; this ultimatelly confirms the validity of the central limit theorem, showing that for any given distribution on a large number of observations that distribution will tend to behave like a gaussian (normal) distribution. "
   ]
  },
  {
   "cell_type": "code",
   "execution_count": 14,
   "metadata": {
    "collapsed": true
   },
   "outputs": [],
   "source": [
    "#generate the distributions\n",
    "m = 0\n",
    "sd = 1\n",
    "dist_n = np.random.normal(m, sd, 1000)\n",
    "\n",
    "\n",
    "l1 = 1 \n",
    "l2 = 5\n",
    "l3 = 20\n",
    "dist_p1 = np.random.poisson(l1 , 1000)\n",
    "dist_p2 = np.random.poisson(l2 , 1000)\n",
    "dist_p3 = np.random.poisson(l3 , 1000)"
   ]
  },
  {
   "cell_type": "code",
   "execution_count": 15,
   "metadata": {
    "collapsed": false
   },
   "outputs": [
    {
     "name": "stdout",
     "output_type": "stream",
     "text": [
      "Poisson1 on normal (0.5, 0.0)\n",
      "Poisson1 on normal (59.83980323875312, array([ 0.574,  0.653,  0.784,  0.914,  1.088]), array([ 15. ,  10. ,   5. ,   2.5,   1. ]))\n"
     ]
    }
   ],
   "source": [
    "# Printing the results for kstest and anderson test on 1st binomial sample generated on \n",
    "# normal distribution\n",
    "print \"Poisson1 on normal\", scipy.stats.kstest(dist_p1,'norm')\n",
    "print \"Poisson1 on normal\", scipy.stats.anderson(dist_p1, dist='norm')"
   ]
  },
  {
   "cell_type": "code",
   "execution_count": 16,
   "metadata": {
    "collapsed": false
   },
   "outputs": [
    {
     "name": "stdout",
     "output_type": "stream",
     "text": [
      "Poisson2 on normal (0.93824986805182076, 0.0)\n",
      "Poisson2 on normal (10.879229201764247, array([ 0.574,  0.653,  0.784,  0.914,  1.088]), array([ 15. ,  10. ,   5. ,   2.5,   1. ]))\n"
     ]
    }
   ],
   "source": [
    "# Printing the results for kstest and anderson test on 1st binomial sample generated on \n",
    "# normal distribution\n",
    "print \"Poisson2 on normal\", scipy.stats.kstest(dist_p2,'norm')\n",
    "print \"Poisson2 on normal\", scipy.stats.anderson(dist_p2, dist='norm')"
   ]
  },
  {
   "cell_type": "code",
   "execution_count": 17,
   "metadata": {
    "collapsed": false
   },
   "outputs": [
    {
     "name": "stdout",
     "output_type": "stream",
     "text": [
      "Poisson3 on normal (0.99999999999999933, 0.0)\n",
      "Poisson3 on normal (2.8527415953174113, array([ 0.574,  0.653,  0.784,  0.914,  1.088]), array([ 15. ,  10. ,   5. ,   2.5,   1. ]))\n"
     ]
    }
   ],
   "source": [
    "# Printing the results for kstest and anderson test on 1st binomial sample generated on \n",
    "# normal distribution\n",
    "print \"Poisson3 on normal\", scipy.stats.kstest(dist_p3,'norm')\n",
    "print \"Poisson3 on normal\", scipy.stats.anderson(dist_p3, dist='norm')"
   ]
  },
  {
   "cell_type": "markdown",
   "metadata": {},
   "source": [
    "For all three cases, the use of the KS test shows a low p-value and statistic; since the null hypotesis in this case is that the two groups compared are sampled for the same distribution (in this case a normal distribution) with the same mean and standard deviation, we can interpret in all three cases (even with different levels of lambda in the poisson) that the null hypotesis is rejected, and confirming that all three compared groups came from different distributions.\n",
    "\n",
    "In the same way that the KS test, the anderson test null hypotesis is that the group compared to the desired distribution comes from that distribution: since in all cases we see a ver high value of the anderson statistic that exceeds the values from the desired siginificance value (0.5), we reject this null hypotesis and confirm that in all cases the groups sampled came from a different distribution."
   ]
  },
  {
   "cell_type": "code",
   "execution_count": 18,
   "metadata": {
    "collapsed": true
   },
   "outputs": [],
   "source": [
    "# fitting values of all binomial generated samples into a normal distribution \n",
    "# to run KL test\n",
    "distpdf_p1, mybins_p1, = np.histogram(dist_p1, density=True)\n",
    "distpdf_p2, mybins_p2, = np.histogram(dist_p2, density=True)\n",
    "distpdf_p3, mybins_p3, = np.histogram(dist_p3, density=True)"
   ]
  },
  {
   "cell_type": "code",
   "execution_count": 19,
   "metadata": {
    "collapsed": true
   },
   "outputs": [],
   "source": [
    "# fitting values of all binomial generated samples into a normal distribution \n",
    "# to run KL test\n",
    "bincenters_p1 = mybins_p1[:-1] + 0.5*(mybins_p1[1] - mybins_p1[0])\n",
    "bincenters_p2 = mybins_p2[:-1] + 0.5*(mybins_p2[1] - mybins_p2[0])\n",
    "bincenters_p3 = mybins_p3[:-1] + 0.5*(mybins_p3[1] - mybins_p3[0])"
   ]
  },
  {
   "cell_type": "code",
   "execution_count": 20,
   "metadata": {
    "collapsed": false
   },
   "outputs": [
    {
     "name": "stdout",
     "output_type": "stream",
     "text": [
      "Poisson1 on normal 0.508526805135\n",
      "Poisson2 on normal 13.4492881356\n",
      "Poisson3 on normal 164.037558305\n"
     ]
    }
   ],
   "source": [
    "# Printing values of KL test of all binomial generated samples into a normal distribution \n",
    "print \"Poisson1 on normal\", scipy.stats.entropy(distpdf_p1, scipy.stats.norm.pdf(bincenters_p1))\n",
    "print \"Poisson2 on normal\", scipy.stats.entropy(distpdf_p2, scipy.stats.norm.pdf(bincenters_p2))\n",
    "print \"Poisson3 on normal\", scipy.stats.entropy(distpdf_p3, scipy.stats.norm.pdf(bincenters_p3))"
   ]
  },
  {
   "cell_type": "markdown",
   "metadata": {},
   "source": [
    "Due to the large value of the KL statistic for all three cases, we can reject the null hypotesis and confirm that all three samples do not come from a normal distribution."
   ]
  },
  {
   "cell_type": "code",
   "execution_count": 21,
   "metadata": {
    "collapsed": true
   },
   "outputs": [],
   "source": [
    "narray = range(1,50,1)\n",
    "ks_b = np.zeros(len(narray))\n",
    "ad_b = np.zeros(len(narray))\n",
    "kl_b = np.zeros(len(narray))\n",
    "\n",
    "def mynorm (x, mu, var):\n",
    "    return scipy.stats.norm.cdf(x, loc=mu, scale=var)"
   ]
  },
  {
   "cell_type": "code",
   "execution_count": 24,
   "metadata": {
    "collapsed": false
   },
   "outputs": [],
   "source": [
    "for i,n in enumerate(narray):\n",
    "    l = 10\n",
    "    dist = np.random.poisson(n, 1000)\n",
    "    #run the tests. \n",
    "    ks_b[i] = scipy.stats.kstest(dist, mynorm, args=(n, n))[0]\n",
    "    ad_b[i] = scipy.stats.anderson(dist, dist='norm')[0]\n",
    "    \n",
    "        \n",
    "    # for KL and Pearson's chisq I have to simulate the normal distribution as well\n",
    "    mybins = np.linspace(min(dist),max(dist), 10) \n",
    "    bincenters = mybins[:-1]+0.5*(mybins[1]-mybins[0])\n",
    " \n",
    "    kl_b [i] =  scipy.stats.entropy(np.histogram(dist, bins=mybins)[0], scipy.stats.norm.pdf(bincenters, loc=n, scale=sqrt(n)))"
   ]
  },
  {
   "cell_type": "code",
   "execution_count": 25,
   "metadata": {
    "collapsed": false
   },
   "outputs": [
    {
     "data": {
      "image/png": "[encoded data removed]",
      "text/plain": [
       "<matplotlib.figure.Figure at 0x170b8be0>"
      ]
     },
     "metadata": {},
     "output_type": "display_data"
    }
   ],
   "source": [
    "fig = pl.figure(figsize = (15,5))\n",
    "fig.add_subplot(131)\n",
    "pl.plot(narray, ks_b, label='KS')\n",
    "pl.legend()\n",
    "pl.grid()\n",
    "\n",
    "fig.add_subplot(132)\n",
    "pl.plot(narray, ad_b,  label='AD')\n",
    "pl.plot([narray[0], narray[-1]])\n",
    "pl.plot()\n",
    "pl.plot()\n",
    "pl.legend()\n",
    "pl.grid()\n",
    "\n",
    "\n",
    "fig.add_subplot(133)\n",
    "pl.plot(narray, kl_b, label='K-L ')\n",
    "pl.legend()\n",
    "pl.grid()"
   ]
  },
  {
   "cell_type": "markdown",
   "metadata": {},
   "source": [
    "For this case, since the poisson parameter used by python scipy module is lambda (the mean and variance of the distribution), we can see in the three graphics disparate results; however we can interpret that the value of all three statistics for all three test fluctuate as the value of lambda increases; in the case of the KS test it seems to increase as lambda increases, and for the AD test, the value decreases as lambda increases. Anyway, we can still interpet from this results that as with the binomial distribution a increase value in lambda makes the poisson behave like a gaussian (normal) distribution, aligining with the central limith theorem."
   ]
  },
  {
   "cell_type": "code",
   "execution_count": null,
   "metadata": {
    "collapsed": true
   },
   "outputs": [],
   "source": []
  }
 ],
 "metadata": {
  "kernelspec": {
   "display_name": "Python 2",
   "language": "python",
   "name": "python2"
  },
  "language_info": {
   "codemirror_mode": {
    "name": "ipython",
    "version": 2
   },
   "file_extension": ".py",
   "mimetype": "text/x-python",
   "name": "python",
   "nbconvert_exporter": "python",
   "pygments_lexer": "ipython2",
   "version": "2.7.10"
  }
 },
 "nbformat": 4,
 "nbformat_minor": 0
}
